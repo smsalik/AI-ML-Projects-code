{
 "cells": [
  {
   "cell_type": "markdown",
   "id": "3e2d39fb-eedc-4c00-92d7-4aab6df607f8",
   "metadata": {},
   "source": [
    "Object Oriented Programming"
   ]
  },
  {
   "cell_type": "markdown",
   "id": "2ea2d3f1-0fed-4d8f-b367-e48921cdc021",
   "metadata": {},
   "source": [
    "# War Card Game"
   ]
  },
  {
   "cell_type": "code",
   "execution_count": 79,
   "id": "a3e1f2c9-b8b8-45b4-9214-0143a142b26a",
   "metadata": {},
   "outputs": [],
   "source": [
    "from random import shuffle\n",
    "\n",
    "SUITE = 'H D S C'.split()\n",
    "RANKS = '2 3 4 5 6 7 8 9 10 J Q K A'.split()\n",
    "\n",
    "class Deck:\n",
    "\n",
    "    def __init__(self):\n",
    "        print('Creating New Ordered Deck')\n",
    "        self.allcards = [(s,r) for s in SUITE for r in RANKS ]\n",
    "\n",
    "    def shuffle(self):\n",
    "        print('Shuffling Deck')\n",
    "        shuffle(self.allcards)\n",
    "\n",
    "    def split_in_half(self):\n",
    "        return (self.allcards[:26] , self.allcards[26:])\n",
    "\n",
    "class Hand:\n",
    "\n",
    "    def __init__(self, cards):\n",
    "        self.cards = cards\n",
    "\n",
    "    def __str__(self):\n",
    "        return \"Contains {} cards\".format(len(self.cards))\n",
    "\n",
    "    def add(self, added_cards):\n",
    "        self.cards.extend(added_cards)\n",
    "        \n",
    "    def remove_card(self):\n",
    "        return self.cards.pop()\n",
    "\n",
    "\n",
    "class Player:\n",
    "\n",
    "    def __init__(self, name, hand):\n",
    "        \n",
    "        self.name = name\n",
    "        self.hand = hand\n",
    "\n",
    "    def play_card(self):\n",
    "        drawn_card = self.hand.remove_card()\n",
    "        print('{} has placed: {}'.format(self.name, drawn_card))\n",
    "        print('\\n')\n",
    "        return drawn_card\n",
    "\n",
    "    def remove_war_cards(self):\n",
    "        war_cards = []\n",
    "        if len(self.hand.cards) < 3:\n",
    "            return war_cards\n",
    "        else:\n",
    "            for x in range(3):\n",
    "                war_cards.append(self.hand.cards.pop(0))\n",
    "\n",
    "        return war_cards\n",
    "\n",
    "    def still_has_cards(self):\n",
    "\n",
    "        return len(self.hand.cards) != 0\n",
    "        \n",
    "        \n",
    "\n",
    "    "
   ]
  },
  {
   "cell_type": "markdown",
   "id": "0c502d3e-a1e1-4b3c-b85d-6fcd026b1ff4",
   "metadata": {},
   "source": [
    "# Game Play"
   ]
  },
  {
   "cell_type": "code",
   "execution_count": 80,
   "id": "2ac7afbb-d5a8-460d-aa4d-dbf126cc3824",
   "metadata": {},
   "outputs": [
    {
     "name": "stdout",
     "output_type": "stream",
     "text": [
      "Welcome to War Card Game!!!\n",
      "Creating New Ordered Deck\n",
      "Shuffling Deck\n"
     ]
    }
   ],
   "source": [
    "print('Welcome to War Card Game!!!')\n",
    "\n",
    "d = Deck()\n",
    "d.shuffle()\n",
    "half1, half2 = d.split_in_half()"
   ]
  },
  {
   "cell_type": "code",
   "execution_count": 81,
   "id": "8a9e871b-fcd4-4378-914b-38b9377f2f12",
   "metadata": {},
   "outputs": [
    {
     "name": "stdin",
     "output_type": "stream",
     "text": [
      "Enter your name:  salik\n"
     ]
    }
   ],
   "source": [
    "comp = Player(\"computer\", Hand(half1))\n",
    "name = input('Enter your name: ')\n",
    "user = Player(name, Hand(half2))"
   ]
  },
  {
   "cell_type": "code",
   "execution_count": 82,
   "id": "10af8779-ba25-4036-bbc3-b8749b3ac057",
   "metadata": {},
   "outputs": [],
   "source": [
    "total_rounds = 0\n",
    "war_count = 0\n"
   ]
  },
  {
   "cell_type": "markdown",
   "id": "83acf2ae-0852-46ec-84ea-2b80a526ae1f",
   "metadata": {},
   "source": [
    "# Game Begin\n"
   ]
  },
  {
   "cell_type": "code",
   "execution_count": null,
   "id": "9a17fff4-af13-45ea-a0c1-7762e500484f",
   "metadata": {},
   "outputs": [],
   "source": [
    "while user.still_has_cards() and comp.still_has_cards():\n",
    "    total_rounds +=  1\n",
    "\n",
    "    print('It is time for new round')\n",
    "    print('These are current standings')\n",
    "    print(user.name+' count:' + str(len(user.hand.cards)))\n",
    "    print(comp.name+' count:' + str(len(comp.hand.cards)))\n",
    "\n",
    "    print('Both Players play a card!')\n",
    "    print('\\n')\n",
    "\n",
    "    table_cards = []\n",
    "    c_card = comp.play_card()\n",
    "    p_card = user.play_card()\n",
    "\n",
    "    table_cards.append(c_card)\n",
    "    table_cards.append(p_card)\n",
    "\n",
    "    if c_card[1] == p_card[1]:\n",
    "        war_count += 1\n",
    "\n",
    "        print(\"We have a match, it's time for a war\")\n",
    "        print(\"Each player removes 3 cards face down and then one card face up\")\n",
    "\n",
    "        table_cards.extend(user.remove_war_cards())\n",
    "        table_cards.extend(comp.remove_war_cards())\n",
    "\n",
    "        c_card = comp.play_card()\n",
    "        p_card = user.play_card()\n",
    "\n",
    "        table_cards.append(c_card)\n",
    "        table_cards.append(p_card)\n",
    "\n",
    "        if RANKS.index(c_card[1]) < RANKS.index(p_card[1]):\n",
    "            print(user.name + ' has the higher card adding to the hand')\n",
    "            user.hand.add(table_cards)\n",
    "\n",
    "        else:\n",
    "            print(comp.name + 'has the higher card, adding to the hand')\n",
    "            comp.hand.add(table_cards)\n",
    "\n",
    "    else:\n",
    "        if RANKS.index(c_card[1]) < RANKS.index(p_card[1]):\n",
    "            print(user.name + ' has the higher card adding to the hand')\n",
    "            user.hand.add(table_cards)\n",
    "\n",
    "        else:\n",
    "            print(comp.name + 'has the higher card, adding to the hand')\n",
    "            comp.hand.add(table_cards)\n",
    "\n",
    "\n",
    "print('total_rounds: ', str(total_rounds))\n",
    "print('war_counts: ', str(war_count))"
   ]
  },
  {
   "cell_type": "code",
   "execution_count": null,
   "id": "1242d0af-a830-45b1-81b5-09f971b2723c",
   "metadata": {},
   "outputs": [],
   "source": []
  }
 ],
 "metadata": {
  "kernelspec": {
   "display_name": "Python 3 (ipykernel)",
   "language": "python",
   "name": "python3"
  },
  "language_info": {
   "codemirror_mode": {
    "name": "ipython",
    "version": 3
   },
   "file_extension": ".py",
   "mimetype": "text/x-python",
   "name": "python",
   "nbconvert_exporter": "python",
   "pygments_lexer": "ipython3",
   "version": "3.12.7"
  }
 },
 "nbformat": 4,
 "nbformat_minor": 5
}
